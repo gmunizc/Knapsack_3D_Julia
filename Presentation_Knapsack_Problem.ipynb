{
 "cells": [
  {
   "cell_type": "markdown",
   "metadata": {},
   "source": [
    "# The 3D Knapsack Problem"
   ]
  },
  {
   "cell_type": "markdown",
   "metadata": {},
   "source": [
    "### - Problem Configuration:"
   ]
  },
  {
   "cell_type": "markdown",
   "metadata": {},
   "source": [
    " ![title](img/input_output.png)"
   ]
  },
  {
   "cell_type": "markdown",
   "metadata": {},
   "source": [
    "### - Challenge Set Up"
   ]
  },
  {
   "cell_type": "markdown",
   "metadata": {},
   "source": [
    "**Knapsack Dimension:** "
   ]
  },
  {
   "cell_type": "code",
   "execution_count": 13,
   "metadata": {},
   "outputs": [
    {
     "data": {
      "text/plain": [
       "(H = 10, W = 20, L = 10)"
      ]
     },
     "execution_count": 13,
     "metadata": {},
     "output_type": "execute_result"
    }
   ],
   "source": [
    "knapsack_dim = 5\n",
    "knapsack = (H = 10, W = 20, L = 10)"
   ]
  },
  {
   "cell_type": "markdown",
   "metadata": {},
   "source": [
    "**List of items:**"
   ]
  },
  {
   "cell_type": "code",
   "execution_count": 16,
   "metadata": {},
   "outputs": [
    {
     "data": {
      "text/plain": [
       "6-element Array{NamedTuple{(:vi, :dim),Tuple{Int64,NamedTuple{(:ai, :bi, :ci),Tuple{Int64,Int64,Int64}}}},1}:\n",
       " (vi = 10, dim = (ai = 10, bi = 3, ci = 5))\n",
       " (vi = 105, dim = (ai = 3, bi = 3, ci = 3))\n",
       " (vi = 20, dim = (ai = 3, bi = 3, ci = 10))\n",
       " (vi = 95, dim = (ai = 3, bi = 3, ci = 3)) \n",
       " (vi = 30, dim = (ai = 1, bi = 3, ci = 5)) \n",
       " (vi = 85, dim = (ai = 3, bi = 3, ci = 3)) "
      ]
     },
     "execution_count": 16,
     "metadata": {},
     "output_type": "execute_result"
    }
   ],
   "source": [
    "items = [(vi = 10, dim = (ai = 10, bi = 3, ci = 5)), (vi = 105, dim = (ai = 3, bi = 3, ci = 3)),\n",
    "         (vi = 20, dim = (ai = 3, bi = 3, ci = 10)), (vi = 95, dim = (ai = 3, bi = 3, ci = 3)),\n",
    "         (vi = 30, dim = (ai = 1, bi = 3, ci = 5)), (vi = 85, dim = (ai = 3, bi = 3, ci = 3))]"
   ]
  },
  {
   "cell_type": "markdown",
   "metadata": {},
   "source": [
    "**Set of Selected Items ⟹ J:** "
   ]
  },
  {
   "cell_type": "code",
   "execution_count": 3,
   "metadata": {},
   "outputs": [
    {
     "data": {
      "text/plain": [
       "1-element Array{Tuple{NamedTuple{(:vi, :dim),Tuple{Int64,NamedTuple{(:ai, :bi, :ci),Tuple{Int64,Int64,Int64}}}},NamedTuple{(:xi, :yi, :zi),Tuple{Int64,Int64,Int64}},NamedTuple{(:hi, :wi),Tuple{String,String}}},1}:\n",
       " ((vi = 0, dim = (ai = 0, bi = 0, ci = 0)), (xi = 0, yi = 0, zi = 0), (hi = \"ai\", wi = \"bi\"))"
      ]
     },
     "execution_count": 3,
     "metadata": {},
     "output_type": "execute_result"
    }
   ],
   "source": [
    "item_zero = (vi = 0, dim = (ai = 0, bi = 0, ci = 0))\n",
    "J = [(item_zero, (xi = 0, yi = 0, zi = 0), (hi = \"ai\", wi = \"bi\"))]"
   ]
  },
  {
   "cell_type": "code",
   "execution_count": 4,
   "metadata": {},
   "outputs": [
    {
     "data": {
      "text/plain": [
       "0"
      ]
     },
     "execution_count": 4,
     "metadata": {},
     "output_type": "execute_result"
    }
   ],
   "source": [
    "V = 0"
   ]
  },
  {
   "cell_type": "markdown",
   "metadata": {},
   "source": [
    "# Placement Strategy:\n",
    "## - Thinking in Corners"
   ]
  },
  {
   "cell_type": "markdown",
   "metadata": {},
   "source": [
    "![title](img/empty.png)"
   ]
  },
  {
   "attachments": {},
   "cell_type": "markdown",
   "metadata": {},
   "source": [
    " ![title](img/one.png)"
   ]
  },
  {
   "attachments": {},
   "cell_type": "markdown",
   "metadata": {},
   "source": [
    " ![title](img/many_items.png)"
   ]
  },
  {
   "cell_type": "markdown",
   "metadata": {},
   "source": [
    " "
   ]
  },
  {
   "cell_type": "markdown",
   "metadata": {},
   "source": [
    "### - Implementation"
   ]
  },
  {
   "cell_type": "markdown",
   "metadata": {},
   "source": [
    "**List of Possible Corners:** "
   ]
  },
  {
   "cell_type": "code",
   "execution_count": null,
   "metadata": {},
   "outputs": [],
   "source": [
    "list_of_possible_corners = [(xi = 0, yi = 0, zi = 0)]"
   ]
  },
  {
   "cell_type": "markdown",
   "metadata": {},
   "source": [
    "### Adding an Item to the Knapsack then consists of: "
   ]
  },
  {
   "cell_type": "code",
   "execution_count": 7,
   "metadata": {},
   "outputs": [
    {
     "data": {
      "text/plain": [
       "add_to_knapsack (generic function with 1 method)"
      ]
     },
     "execution_count": 7,
     "metadata": {},
     "output_type": "execute_result"
    }
   ],
   "source": [
    "function add_to_knapsack(item, J, knapsack, list_of_possible_corners)\n",
    "\n",
    "    for i in 1:length(list_of_possible_corners)\n",
    "        corner = list_of_possible_corners[i]\n",
    "        corner_space = available_space(corner, knapsack)\n",
    "        enough, relations = is_enough_space(corner_space, item)\n",
    "        if enough\n",
    "            ordered_space_dims = order_relations_in_xyz(relations)\n",
    "            hi_wi_dims = get_hi_dim_and_wi_dim(relations)\n",
    "            push!(J,(item, (xi = corner.xi, yi = corner.yi, zi = corner.zi), hi_wi_dims))\n",
    "            remove!(list_of_possible_corners, corner)\n",
    "            list_of_possible_corners = add_candidate_corners(list_of_possible_corners, item, corner, hi_wi_dims)\n",
    "            return list_of_possible_corners\n",
    "        end\n",
    "    end\n",
    "    return list_of_possible_corners\n",
    "end"
   ]
  },
  {
   "cell_type": "markdown",
   "metadata": {},
   "source": [
    " "
   ]
  },
  {
   "cell_type": "markdown",
   "metadata": {},
   "source": [
    "### Now, The Utility Functions: "
   ]
  },
  {
   "cell_type": "code",
   "execution_count": 8,
   "metadata": {},
   "outputs": [
    {
     "data": {
      "text/plain": [
       "calculate_V_in_J (generic function with 1 method)"
      ]
     },
     "execution_count": 8,
     "metadata": {},
     "output_type": "execute_result"
    }
   ],
   "source": [
    "function order_items_by(items, key)\n",
    "    if key == \"value\"\n",
    "        print(items[1].vi)\n",
    "        valuable_items = sort(items, rev=true, by = x -> x[1])\n",
    "        print(valuable_items)\n",
    "        return valuable_items\n",
    "    else\n",
    "        heaviest_items = sort(items, rev=true, by = x -> x[2].ai * x[2].bi * x[2].ci)\n",
    "        print(heaviest_items)\n",
    "        return heaviest_items\n",
    "    end\n",
    "end\n",
    "\n",
    "function split_in_halves(items)\n",
    "    if mod(length(items), 2) == 0\n",
    "        n = convert(Int, length(items) / 2) \n",
    "    else\n",
    "        n = convert(Int, length(items) / 2 + 0.5)\n",
    "    end\n",
    "    first_half = [items[i] for i in 1:n]\n",
    "    second_half = [items[i] for i in n+1:length(items)]\n",
    "\n",
    "    return first_half, second_half\n",
    "end\n",
    "\n",
    "function get_largest_to_smallest_dim_list(a, b, c)\n",
    "    dim = [a, b, c]\n",
    "    dim_sorted = sort(dim)\n",
    "    g1 = pop!(dim_sorted)\n",
    "    g2 = pop!(dim_sorted)\n",
    "    g3 = pop!(dim_sorted)\n",
    "    g1_idx = findall(x->x==g1, dim)[1]\n",
    "    dim[g1_idx] = -1\n",
    "    g2_idx = findall(x->x==g2, dim)[1]\n",
    "    dim[g2_idx] = -1\n",
    "    g3_idx = findall(x->x==g3, dim)[1]\n",
    "    \n",
    "    largest_to_smallest_dim_list = [(g1_idx, g1), (g2_idx, g2), (g3_idx, g3)]\n",
    "\n",
    "    return largest_to_smallest_dim_list\n",
    "    \n",
    "end\n",
    "\n",
    "function available_space(corner, knapsack)\n",
    "    return (x = knapsack.W - corner.xi, y = knapsack.L - corner.yi, z = knapsack.H - corner.zi)\n",
    "end\n",
    "\n",
    "function is_enough_space(corner_space, item)\n",
    "    item_dims = get_largest_to_smallest_dim_list(item[2].ai, item[2].bi, item[2].ci)\n",
    "    space_dims = get_largest_to_smallest_dim_list(corner_space.x, corner_space.y, corner_space.z)\n",
    "    enough = true\n",
    "    relations = [((0,0),(0,0))]\n",
    "\n",
    "    for i in 1:3\n",
    "        space = space_dims[i][2] - item_dims[i][2]\n",
    "        if space < 0\n",
    "            relation = nothing\n",
    "            enough = false\n",
    "            break\n",
    "        end\n",
    "        push!(relations, (space_dims[i], item_dims[i]))\n",
    "    end\n",
    "    popfirst!(relations)\n",
    "    return enough, relations\n",
    "end\n",
    "\n",
    "function order_relations_in_xyz(relations)\n",
    "    return sort(relations, by = x -> x[1][1][1])\n",
    "end\n",
    "\n",
    "function get_hi_dim_and_wi_dim(relations)\n",
    "    ordered_relations = order_relations_in_xyz(relations)\n",
    "    dim_dict = Dict(1 => \"ai\", 2 => \"bi\", 3 => \"ci\")\n",
    "    (hi = dim_dict[ordered_relations[3][2][1]], wi = dim_dict[ordered_relations[1][2][1]])\n",
    "end\n",
    "\n",
    "function add3DTuple(tuple1, tuple2)\n",
    "    partial_results = [0]\n",
    "\n",
    "    for i in 1:length(tuple1)\n",
    "        push!(partial_results, tuple1[i] + tuple2[i])\n",
    "    end\n",
    "\n",
    "    return new_tuple = (partial_results[2], partial_results[3], partial_results[4])\n",
    "end\n",
    "\n",
    "function remove!(a, item)\n",
    "    deleteat!(a, findall(x->x==item, a))\n",
    "end\n",
    "\n",
    "function item_actual_orientation(item_dim, orientation)\n",
    "    dim_dict = Dict(\"ai\" => 1, \"bi\" => 2, \"ci\" => 3)\n",
    "    list_dim = [1, 2, 3]\n",
    "    z = orientation[1]\n",
    "    x = orientation[2]\n",
    "    item_x = item_dim[dim_dict[x]]\n",
    "    remove!(list_dim, dim_dict[x])\n",
    "    item_z = item_dim[dim_dict[z]]\n",
    "    remove!(list_dim, dim_dict[z])\n",
    "    item_y = item_dim[list_dim[1]]\n",
    "\n",
    "    return (item_x, item_y, item_z)\n",
    "end\n",
    "\n",
    "function add_candidate_corners(conrner_list, item, coordinates, orientation)\n",
    "    oriented_item = item_actual_orientation(item.dim, orientation)\n",
    "        \n",
    "    new_corner_1 = add3DTuple(coordinates, (oriented_item[1], 0, 0))\n",
    "    push!(conrner_list, (xi = new_corner_1[1], yi = new_corner_1[2], zi = new_corner_1[3]))\n",
    "    new_corner_2 = add3DTuple(coordinates, (0, oriented_item[2], 0))\n",
    "    push!(conrner_list, (xi = new_corner_2[1], yi = new_corner_2[2], zi = new_corner_2[3]))\n",
    "    new_corner_3 = add3DTuple(coordinates, (0, 0, oriented_item[3]))\n",
    "    push!(conrner_list, (xi = new_corner_3[1], yi = new_corner_3[2], zi = new_corner_3[3]))\n",
    "\n",
    "    return conrner_list\n",
    "end\n",
    "\n",
    "function calculate_V_in_J(J)\n",
    "    V = 0\n",
    "    for i in 1:length(J)\n",
    "        V += J[i][1][1]\n",
    "    end\n",
    "    return V\n",
    "end"
   ]
  },
  {
   "cell_type": "markdown",
   "metadata": {},
   "source": [
    "## Strategies:  "
   ]
  },
  {
   "cell_type": "markdown",
   "metadata": {},
   "source": [
    " ### - Strategy 1 [Putting Rock first then later Sand]\n",
    "        - Step1: Order them based on Weight\n",
    "        - Step2: Divide them in half\n",
    "        - Step3: Order each half based on Value\n",
    "        - Step4: Take the heaviest and most valuable until it all fits\n",
    "        - Step5: Take the lightest and most valuable if there is enough space left\n",
    "\n",
    "  ### - Strategy 2 [Alternate between Rock and Sand]\n",
    "        - Step1: Order them based on Weight\n",
    "        - Step2: Divide them in half\n",
    "        - Step3: Order each half based on Value\n",
    "        - Step4: Take one of the heaviest and most valuable \n",
    "        - Step5: Take one of the lightest and most valuable\n",
    "        - Step6: Repeat until there is no space left\n",
    "\n",
    "  ### - Strategy 3\n",
    "        - Step1: Order them based on Weight\n",
    "        - Step2: Divide them in half\n",
    "        - Step3: Order each half based on Value\n",
    "        - Step4: Take one of the lightest and most valuable until it all fits\n",
    "        - Step5: Take one of the heaviest and most valuable if there is enough space left\n",
    "\n",
    "  ### - Strategy 4\n",
    "        - Step1: Order them based on Value\n",
    "        - Step2: Divide them in half\n",
    "        - Step3: Order each half based on Weight\n",
    "        - Step4: Take the heaviest and most valuable until it all fits\n",
    "        - Step5: Take the lightest and most valuable if there is enough space left\n",
    "\n",
    "  ### - Strategy 5\n",
    "        - Step1: Order them based on Value\n",
    "        - Step2: Divide them in half\n",
    "        - Step3: Order each half based on Weight\n",
    "        - Step4: Take one of the heaviest and most valuable \n",
    "        - Step5: Take one of the lightest and most valuable\n",
    "        - Step6: Repeat until there is no space left\n",
    "\n",
    "  ### - Strategy 6\n",
    "        - Step1: Order them based on Value\n",
    "        - Step2: Divide them in half\n",
    "        - Step3: Order each half based on Weight\n",
    "        - Step4: Take one of the lightest and most valuable until it all fits\n",
    "        - Step5: Take one of the heaviest and most valuable if there is enough space left\n",
    "\n",
    "  ### - Strategy 7 [Just Greedy]\n",
    "        - Step1: Order them based on Value\n",
    "        - Step2: Take one by one from the most valuable to the least until there is no space left"
   ]
  },
  {
   "cell_type": "markdown",
   "metadata": {},
   "source": [
    "### Restarting inicial variables:"
   ]
  },
  {
   "cell_type": "code",
   "execution_count": 17,
   "metadata": {},
   "outputs": [
    {
     "data": {
      "text/plain": [
       "1-element Array{NamedTuple{(:xi, :yi, :zi),Tuple{Int64,Int64,Int64}},1}:\n",
       " (xi = 0, yi = 0, zi = 0)"
      ]
     },
     "execution_count": 17,
     "metadata": {},
     "output_type": "execute_result"
    }
   ],
   "source": [
    "item_zero = (vi = 0, dim = (ai = 0, bi = 0, ci = 0))\n",
    "J = [(item_zero, (xi = 0, yi = 0, zi = 0), (hi = \"ai\", wi = \"bi\"))]\n",
    "list_of_possible_corners = [(xi = 0, yi = 0, zi = 0)]"
   ]
  },
  {
   "cell_type": "code",
   "execution_count": 18,
   "metadata": {},
   "outputs": [
    {
     "name": "stdout",
     "output_type": "stream",
     "text": [
      "10NamedTuple{(:vi, :dim),Tuple{Int64,NamedTuple{(:ai, :bi, :ci),Tuple{Int64,Int64,Int64}}}}[(vi = 105, dim = (ai = 3, bi = 3, ci = 3)), (vi = 95, dim = (ai = 3, bi = 3, ci = 3)), (vi = 85, dim = (ai = 3, bi = 3, ci = 3)), (vi = 30, dim = (ai = 1, bi = 3, ci = 5)), (vi = 20, dim = (ai = 3, bi = 3, ci = 10)), (vi = 10, dim = (ai = 10, bi = 3, ci = 5))]"
     ]
    }
   ],
   "source": [
    "# - Strategy 1 [Just Greedy]\n",
    "#    Step1: Order them based on Value\n",
    "items_most_valuable_to_least = order_items_by(items, \"value\")\n",
    "#    Step2: Take one by one from the most valuable to the least until there is no space left\n",
    "for i in 1:length(items_most_valuable_to_least)\n",
    "    add_to_knapsack(items_most_valuable_to_least[i], J, knapsack, list_of_possible_corners)\n",
    "end"
   ]
  },
  {
   "cell_type": "markdown",
   "metadata": {},
   "source": [
    "**Output:** "
   ]
  },
  {
   "cell_type": "code",
   "execution_count": 19,
   "metadata": {},
   "outputs": [
    {
     "data": {
      "text/plain": [
       "7-element Array{Tuple{NamedTuple{(:vi, :dim),Tuple{Int64,NamedTuple{(:ai, :bi, :ci),Tuple{Int64,Int64,Int64}}}},NamedTuple{(:xi, :yi, :zi),Tuple{Int64,Int64,Int64}},NamedTuple{(:hi, :wi),Tuple{String,String}}},1}:\n",
       " ((vi = 0, dim = (ai = 0, bi = 0, ci = 0)), (xi = 0, yi = 0, zi = 0), (hi = \"ai\", wi = \"bi\"))  \n",
       " ((vi = 105, dim = (ai = 3, bi = 3, ci = 3)), (xi = 0, yi = 0, zi = 0), (hi = \"ci\", wi = \"ai\"))\n",
       " ((vi = 95, dim = (ai = 3, bi = 3, ci = 3)), (xi = 3, yi = 0, zi = 0), (hi = \"ci\", wi = \"ai\")) \n",
       " ((vi = 85, dim = (ai = 3, bi = 3, ci = 3)), (xi = 0, yi = 3, zi = 0), (hi = \"bi\", wi = \"ai\")) \n",
       " ((vi = 30, dim = (ai = 1, bi = 3, ci = 5)), (xi = 0, yi = 0, zi = 3), (hi = \"ai\", wi = \"ci\")) \n",
       " ((vi = 20, dim = (ai = 3, bi = 3, ci = 10)), (xi = 6, yi = 0, zi = 0), (hi = \"bi\", wi = \"ci\"))\n",
       " ((vi = 10, dim = (ai = 10, bi = 3, ci = 5)), (xi = 3, yi = 3, zi = 0), (hi = \"ci\", wi = \"ai\"))"
      ]
     },
     "execution_count": 19,
     "metadata": {},
     "output_type": "execute_result"
    }
   ],
   "source": [
    "J"
   ]
  },
  {
   "cell_type": "code",
   "execution_count": 20,
   "metadata": {},
   "outputs": [
    {
     "data": {
      "text/plain": [
       "345"
      ]
     },
     "execution_count": 20,
     "metadata": {},
     "output_type": "execute_result"
    }
   ],
   "source": [
    "V = calculate_V_in_J(J)"
   ]
  },
  {
   "cell_type": "markdown",
   "metadata": {},
   "source": [
    "### Restarting inicial variables:"
   ]
  },
  {
   "cell_type": "code",
   "execution_count": 21,
   "metadata": {},
   "outputs": [
    {
     "data": {
      "text/plain": [
       "1-element Array{NamedTuple{(:xi, :yi, :zi),Tuple{Int64,Int64,Int64}},1}:\n",
       " (xi = 0, yi = 0, zi = 0)"
      ]
     },
     "execution_count": 21,
     "metadata": {},
     "output_type": "execute_result"
    }
   ],
   "source": [
    "item_zero = (vi = 0, dim = (ai = 0, bi = 0, ci = 0))\n",
    "J = [(item_zero, (xi = 0, yi = 0, zi = 0), (hi = \"ai\", wi = \"bi\"))]\n",
    "list_of_possible_corners = [(xi = 0, yi = 0, zi = 0)]"
   ]
  },
  {
   "cell_type": "code",
   "execution_count": 22,
   "metadata": {},
   "outputs": [
    {
     "name": "stdout",
     "output_type": "stream",
     "text": [
      "10NamedTuple{(:vi, :dim),Tuple{Int64,NamedTuple{(:ai, :bi, :ci),Tuple{Int64,Int64,Int64}}}}[(vi = 105, dim = (ai = 3, bi = 3, ci = 3)), (vi = 95, dim = (ai = 3, bi = 3, ci = 3)), (vi = 85, dim = (ai = 3, bi = 3, ci = 3)), (vi = 30, dim = (ai = 1, bi = 3, ci = 5)), (vi = 20, dim = (ai = 3, bi = 3, ci = 10)), (vi = 10, dim = (ai = 10, bi = 3, ci = 5))]NamedTuple{(:vi, :dim),Tuple{Int64,NamedTuple{(:ai, :bi, :ci),Tuple{Int64,Int64,Int64}}}}[(vi = 105, dim = (ai = 3, bi = 3, ci = 3)), (vi = 95, dim = (ai = 3, bi = 3, ci = 3)), (vi = 85, dim = (ai = 3, bi = 3, ci = 3))]NamedTuple{(:vi, :dim),Tuple{Int64,NamedTuple{(:ai, :bi, :ci),Tuple{Int64,Int64,Int64}}}}[(vi = 10, dim = (ai = 10, bi = 3, ci = 5)), (vi = 20, dim = (ai = 3, bi = 3, ci = 10)), (vi = 30, dim = (ai = 1, bi = 3, ci = 5))]"
     ]
    }
   ],
   "source": [
    "#- Strategy 2 [Putting Rock first then later Sand]\n",
    "#    Step1: Order them based on Value\n",
    "items_most_valuable_to_least =  order_items_by(items, \"value\")\n",
    "#    Step2: Divide them in half\n",
    "valuable_half, less_valuable_half = split_in_halves(items_most_valuable_to_least)\n",
    "#    Step3: Order each half based on Volume\n",
    "valuable_and_heavy = order_items_by(valuable_half, \"volume\")\n",
    "less_valuable_and_heavy = order_items_by(less_valuable_half, \"volume\")\n",
    "#    Step4: Take the heaviest and most valuable until it all fits\n",
    "for i in 1:length(valuable_and_heavy)\n",
    "    add_to_knapsack(valuable_and_heavy[i], J, knapsack, list_of_possible_corners)\n",
    "end\n",
    "#    Step5: Take the lightest and most valuable if there is enough space left\n",
    "for i in 1:length(less_valuable_and_heavy)\n",
    "    add_to_knapsack(less_valuable_and_heavy[i], J, knapsack, list_of_possible_corners)\n",
    "end"
   ]
  },
  {
   "cell_type": "markdown",
   "metadata": {},
   "source": [
    "**Output:** "
   ]
  },
  {
   "cell_type": "code",
   "execution_count": 23,
   "metadata": {},
   "outputs": [
    {
     "data": {
      "text/plain": [
       "7-element Array{Tuple{NamedTuple{(:vi, :dim),Tuple{Int64,NamedTuple{(:ai, :bi, :ci),Tuple{Int64,Int64,Int64}}}},NamedTuple{(:xi, :yi, :zi),Tuple{Int64,Int64,Int64}},NamedTuple{(:hi, :wi),Tuple{String,String}}},1}:\n",
       " ((vi = 0, dim = (ai = 0, bi = 0, ci = 0)), (xi = 0, yi = 0, zi = 0), (hi = \"ai\", wi = \"bi\"))  \n",
       " ((vi = 105, dim = (ai = 3, bi = 3, ci = 3)), (xi = 0, yi = 0, zi = 0), (hi = \"ci\", wi = \"ai\"))\n",
       " ((vi = 95, dim = (ai = 3, bi = 3, ci = 3)), (xi = 3, yi = 0, zi = 0), (hi = \"ci\", wi = \"ai\")) \n",
       " ((vi = 85, dim = (ai = 3, bi = 3, ci = 3)), (xi = 0, yi = 3, zi = 0), (hi = \"bi\", wi = \"ai\")) \n",
       " ((vi = 10, dim = (ai = 10, bi = 3, ci = 5)), (xi = 0, yi = 0, zi = 3), (hi = \"bi\", wi = \"ai\"))\n",
       " ((vi = 20, dim = (ai = 3, bi = 3, ci = 10)), (xi = 6, yi = 0, zi = 0), (hi = \"bi\", wi = \"ci\"))\n",
       " ((vi = 30, dim = (ai = 1, bi = 3, ci = 5)), (xi = 3, yi = 3, zi = 0), (hi = \"bi\", wi = \"ci\")) "
      ]
     },
     "execution_count": 23,
     "metadata": {},
     "output_type": "execute_result"
    }
   ],
   "source": [
    "J"
   ]
  },
  {
   "cell_type": "code",
   "execution_count": 24,
   "metadata": {},
   "outputs": [
    {
     "data": {
      "text/plain": [
       "345"
      ]
     },
     "execution_count": 24,
     "metadata": {},
     "output_type": "execute_result"
    }
   ],
   "source": [
    "V = calculate_V_in_J(J)"
   ]
  },
  {
   "cell_type": "markdown",
   "metadata": {},
   "source": [
    "### Restarting inicial variables:"
   ]
  },
  {
   "cell_type": "code",
   "execution_count": 25,
   "metadata": {},
   "outputs": [
    {
     "data": {
      "text/plain": [
       "1-element Array{NamedTuple{(:xi, :yi, :zi),Tuple{Int64,Int64,Int64}},1}:\n",
       " (xi = 0, yi = 0, zi = 0)"
      ]
     },
     "execution_count": 25,
     "metadata": {},
     "output_type": "execute_result"
    }
   ],
   "source": [
    "item_zero = (vi = 0, dim = (ai = 0, bi = 0, ci = 0))\n",
    "J = [(item_zero, (xi = 0, yi = 0, zi = 0), (hi = \"ai\", wi = \"bi\"))]\n",
    "list_of_possible_corners = [(xi = 0, yi = 0, zi = 0)]"
   ]
  },
  {
   "cell_type": "code",
   "execution_count": 26,
   "metadata": {},
   "outputs": [
    {
     "name": "stdout",
     "output_type": "stream",
     "text": [
      "10NamedTuple{(:vi, :dim),Tuple{Int64,NamedTuple{(:ai, :bi, :ci),Tuple{Int64,Int64,Int64}}}}[(vi = 105, dim = (ai = 3, bi = 3, ci = 3)), (vi = 95, dim = (ai = 3, bi = 3, ci = 3)), (vi = 85, dim = (ai = 3, bi = 3, ci = 3)), (vi = 30, dim = (ai = 1, bi = 3, ci = 5)), (vi = 20, dim = (ai = 3, bi = 3, ci = 10)), (vi = 10, dim = (ai = 10, bi = 3, ci = 5))]NamedTuple{(:vi, :dim),Tuple{Int64,NamedTuple{(:ai, :bi, :ci),Tuple{Int64,Int64,Int64}}}}[(vi = 105, dim = (ai = 3, bi = 3, ci = 3)), (vi = 95, dim = (ai = 3, bi = 3, ci = 3)), (vi = 85, dim = (ai = 3, bi = 3, ci = 3))]NamedTuple{(:vi, :dim),Tuple{Int64,NamedTuple{(:ai, :bi, :ci),Tuple{Int64,Int64,Int64}}}}[(vi = 10, dim = (ai = 10, bi = 3, ci = 5)), (vi = 20, dim = (ai = 3, bi = 3, ci = 10)), (vi = 30, dim = (ai = 1, bi = 3, ci = 5))]"
     ]
    }
   ],
   "source": [
    "#- Strategy 3 [Alternate between Rock and Sand]\n",
    "#    Step1: Order them based on Value\n",
    "items_most_valuable_to_least =  order_items_by(items, \"value\")\n",
    "#    Step2: Divide them in half\n",
    "valuable_half, less_valuable_half = split_in_halves(items_most_valuable_to_least)\n",
    "#    Step3: Order each half based on Volume\n",
    "valuable_and_heavy = order_items_by(valuable_half, \"volume\")\n",
    "less_valuable_and_heavy = order_items_by(less_valuable_half, \"volume\")\n",
    "#    Step4: Repeat until there is no space left\n",
    "for i in 1:length(less_valuable_and_heavy)\n",
    "    #    Step5: Take one of the heaviest and most valuable \n",
    "    add_to_knapsack(valuable_and_heavy[i], J, knapsack, list_of_possible_corners)\n",
    "    #    Step6: Take one of the lightest and most valuable\n",
    "    add_to_knapsack(less_valuable_and_heavy[i], J, knapsack, list_of_possible_corners)\n",
    "end\n",
    "if length(less_valuable_and_heavy) < length(valuable_and_heavy)\n",
    "    add_to_knapsack(valuable_and_heavy[length(valuable_and_heavy)], J, knapsack, list_of_possible_corners)\n",
    "end"
   ]
  },
  {
   "cell_type": "markdown",
   "metadata": {},
   "source": [
    "**Output:** "
   ]
  },
  {
   "cell_type": "code",
   "execution_count": 27,
   "metadata": {},
   "outputs": [
    {
     "data": {
      "text/plain": [
       "7-element Array{Tuple{NamedTuple{(:vi, :dim),Tuple{Int64,NamedTuple{(:ai, :bi, :ci),Tuple{Int64,Int64,Int64}}}},NamedTuple{(:xi, :yi, :zi),Tuple{Int64,Int64,Int64}},NamedTuple{(:hi, :wi),Tuple{String,String}}},1}:\n",
       " ((vi = 0, dim = (ai = 0, bi = 0, ci = 0)), (xi = 0, yi = 0, zi = 0), (hi = \"ai\", wi = \"bi\"))  \n",
       " ((vi = 105, dim = (ai = 3, bi = 3, ci = 3)), (xi = 0, yi = 0, zi = 0), (hi = \"ci\", wi = \"ai\"))\n",
       " ((vi = 10, dim = (ai = 10, bi = 3, ci = 5)), (xi = 3, yi = 0, zi = 0), (hi = \"bi\", wi = \"ai\"))\n",
       " ((vi = 95, dim = (ai = 3, bi = 3, ci = 3)), (xi = 0, yi = 3, zi = 0), (hi = \"bi\", wi = \"ai\")) \n",
       " ((vi = 20, dim = (ai = 3, bi = 3, ci = 10)), (xi = 0, yi = 0, zi = 3), (hi = \"bi\", wi = \"ci\"))\n",
       " ((vi = 85, dim = (ai = 3, bi = 3, ci = 3)), (xi = 13, yi = 0, zi = 0), (hi = \"bi\", wi = \"ci\"))\n",
       " ((vi = 30, dim = (ai = 1, bi = 3, ci = 5)), (xi = 3, yi = 5, zi = 0), (hi = \"bi\", wi = \"ci\")) "
      ]
     },
     "execution_count": 27,
     "metadata": {},
     "output_type": "execute_result"
    }
   ],
   "source": [
    "J"
   ]
  },
  {
   "cell_type": "code",
   "execution_count": 29,
   "metadata": {},
   "outputs": [
    {
     "data": {
      "text/plain": [
       "0"
      ]
     },
     "execution_count": 29,
     "metadata": {},
     "output_type": "execute_result"
    }
   ],
   "source": [
    "V = calculate_V_in_J(J)"
   ]
  },
  {
   "cell_type": "markdown",
   "metadata": {},
   "source": [
    "### Restarting inicial variables:"
   ]
  },
  {
   "cell_type": "code",
   "execution_count": 28,
   "metadata": {},
   "outputs": [
    {
     "data": {
      "text/plain": [
       "1-element Array{NamedTuple{(:xi, :yi, :zi),Tuple{Int64,Int64,Int64}},1}:\n",
       " (xi = 0, yi = 0, zi = 0)"
      ]
     },
     "execution_count": 28,
     "metadata": {},
     "output_type": "execute_result"
    }
   ],
   "source": [
    "item_zero = (vi = 0, dim = (ai = 0, bi = 0, ci = 0))\n",
    "J = [(item_zero, (xi = 0, yi = 0, zi = 0), (hi = \"ai\", wi = \"bi\"))]\n",
    "list_of_possible_corners = [(xi = 0, yi = 0, zi = 0)]"
   ]
  },
  {
   "cell_type": "code",
   "execution_count": 30,
   "metadata": {},
   "outputs": [
    {
     "name": "stdout",
     "output_type": "stream",
     "text": [
      "10NamedTuple{(:vi, :dim),Tuple{Int64,NamedTuple{(:ai, :bi, :ci),Tuple{Int64,Int64,Int64}}}}[(vi = 105, dim = (ai = 3, bi = 3, ci = 3)), (vi = 95, dim = (ai = 3, bi = 3, ci = 3)), (vi = 85, dim = (ai = 3, bi = 3, ci = 3)), (vi = 30, dim = (ai = 1, bi = 3, ci = 5)), (vi = 20, dim = (ai = 3, bi = 3, ci = 10)), (vi = 10, dim = (ai = 10, bi = 3, ci = 5))]NamedTuple{(:vi, :dim),Tuple{Int64,NamedTuple{(:ai, :bi, :ci),Tuple{Int64,Int64,Int64}}}}[(vi = 105, dim = (ai = 3, bi = 3, ci = 3)), (vi = 95, dim = (ai = 3, bi = 3, ci = 3)), (vi = 85, dim = (ai = 3, bi = 3, ci = 3))]NamedTuple{(:vi, :dim),Tuple{Int64,NamedTuple{(:ai, :bi, :ci),Tuple{Int64,Int64,Int64}}}}[(vi = 10, dim = (ai = 10, bi = 3, ci = 5)), (vi = 20, dim = (ai = 3, bi = 3, ci = 10)), (vi = 30, dim = (ai = 1, bi = 3, ci = 5))]"
     ]
    }
   ],
   "source": [
    "#- Strategy 4 [Putting Sand first then later Rock]\n",
    "#    Step1: Order them based on Value\n",
    "items_most_valuable_to_least =  order_items_by(items, \"value\")\n",
    "#    Step2: Divide them in half\n",
    "valuable_half, less_valuable_half = split_in_halves(items_most_valuable_to_least)\n",
    "#    Step3: Order each half based on Volume\n",
    "valuable_and_heavy = order_items_by(valuable_half, \"volume\")\n",
    "less_valuable_and_heavy = order_items_by(less_valuable_half, \"volume\")\n",
    "#    Step4: Take one of the lightest and most valuable until it all fits\n",
    "for i in 1:length(less_valuable_and_heavy)\n",
    "    add_to_knapsack(less_valuable_and_heavy[i], J, knapsack, list_of_possible_corners)\n",
    "end\n",
    "#    Step5: Take one of the heaviest and most valuable if there is enough space left\n",
    "for i in 1:length(valuable_and_heavy)\n",
    "    add_to_knapsack(valuable_and_heavy[i], J, knapsack, list_of_possible_corners)\n",
    "end"
   ]
  },
  {
   "cell_type": "markdown",
   "metadata": {},
   "source": [
    "**Output:** "
   ]
  },
  {
   "cell_type": "code",
   "execution_count": 31,
   "metadata": {},
   "outputs": [
    {
     "data": {
      "text/plain": [
       "7-element Array{Tuple{NamedTuple{(:vi, :dim),Tuple{Int64,NamedTuple{(:ai, :bi, :ci),Tuple{Int64,Int64,Int64}}}},NamedTuple{(:xi, :yi, :zi),Tuple{Int64,Int64,Int64}},NamedTuple{(:hi, :wi),Tuple{String,String}}},1}:\n",
       " ((vi = 0, dim = (ai = 0, bi = 0, ci = 0)), (xi = 0, yi = 0, zi = 0), (hi = \"ai\", wi = \"bi\"))   \n",
       " ((vi = 10, dim = (ai = 10, bi = 3, ci = 5)), (xi = 0, yi = 0, zi = 0), (hi = \"bi\", wi = \"ai\")) \n",
       " ((vi = 20, dim = (ai = 3, bi = 3, ci = 10)), (xi = 10, yi = 0, zi = 0), (hi = \"bi\", wi = \"ci\"))\n",
       " ((vi = 30, dim = (ai = 1, bi = 3, ci = 5)), (xi = 0, yi = 5, zi = 0), (hi = \"bi\", wi = \"ci\"))  \n",
       " ((vi = 105, dim = (ai = 3, bi = 3, ci = 3)), (xi = 0, yi = 0, zi = 3), (hi = \"ci\", wi = \"ai\")) \n",
       " ((vi = 95, dim = (ai = 3, bi = 3, ci = 3)), (xi = 10, yi = 3, zi = 0), (hi = \"bi\", wi = \"ai\")) \n",
       " ((vi = 85, dim = (ai = 3, bi = 3, ci = 3)), (xi = 10, yi = 0, zi = 3), (hi = \"ci\", wi = \"ai\")) "
      ]
     },
     "execution_count": 31,
     "metadata": {},
     "output_type": "execute_result"
    }
   ],
   "source": [
    "J"
   ]
  },
  {
   "cell_type": "code",
   "execution_count": 32,
   "metadata": {},
   "outputs": [
    {
     "data": {
      "text/plain": [
       "345"
      ]
     },
     "execution_count": 32,
     "metadata": {},
     "output_type": "execute_result"
    }
   ],
   "source": [
    "V = calculate_V_in_J(J)"
   ]
  },
  {
   "cell_type": "code",
   "execution_count": null,
   "metadata": {},
   "outputs": [],
   "source": []
  },
  {
   "cell_type": "code",
   "execution_count": 33,
   "metadata": {},
   "outputs": [
    {
     "name": "stdout",
     "output_type": "stream",
     "text": [
      "NamedTuple{(:vi, :dim),Tuple{Int64,NamedTuple{(:ai, :bi, :ci),Tuple{Int64,Int64,Int64}}}}[(vi = 10, dim = (ai = 10, bi = 3, ci = 5)), (vi = 20, dim = (ai = 3, bi = 3, ci = 10)), (vi = 105, dim = (ai = 3, bi = 3, ci = 3)), (vi = 95, dim = (ai = 3, bi = 3, ci = 3)), (vi = 85, dim = (ai = 3, bi = 3, ci = 3)), (vi = 30, dim = (ai = 1, bi = 3, ci = 5))]10NamedTuple{(:vi, :dim),Tuple{Int64,NamedTuple{(:ai, :bi, :ci),Tuple{Int64,Int64,Int64}}}}[(vi = 105, dim = (ai = 3, bi = 3, ci = 3)), (vi = 20, dim = (ai = 3, bi = 3, ci = 10)), (vi = 10, dim = (ai = 10, bi = 3, ci = 5))]95NamedTuple{(:vi, :dim),Tuple{Int64,NamedTuple{(:ai, :bi, :ci),Tuple{Int64,Int64,Int64}}}}[(vi = 95, dim = (ai = 3, bi = 3, ci = 3)), (vi = 85, dim = (ai = 3, bi = 3, ci = 3)), (vi = 30, dim = (ai = 1, bi = 3, ci = 5))]"
     ]
    },
    {
     "ename": "UndefVarError",
     "evalue": "UndefVarError: calculate_new_corners not defined",
     "output_type": "error",
     "traceback": [
      "UndefVarError: calculate_new_corners not defined",
      "",
      "Stacktrace:",
      " [1] top-level scope at ./In[33]:11"
     ]
    }
   ],
   "source": [
    "#- Strategy 1 [Putting Rock first then later Sand]\n",
    "#    Step1: Order them based on Weight\n",
    "items_bigger_to_smaller =  order_items_by(items, \"volume\")\n",
    "#    Step2: Divide them in half\n",
    "bigger_half, smaller_half = split_in_halves(items_bigger_to_smaller)\n",
    "#    Step3: Order each half based on Value\n",
    "bigger_and_valuable = order_items_by(bigger_half, \"value\")\n",
    "smaller_and_valuable = order_items_by(smaller_half, \"value\")\n",
    "#    Step4: Take the heaviest and most valuable until it all fits\n",
    "for i in 1:length(bigger_and_valuable)\n",
    "    list_of_possible_corners = calculate_new_corners(J, knapsack)\n",
    "    add_to_knapsack(bigger_and_valuable[i], J, knapsack, list_of_possible_corners)\n",
    "end\n",
    "#    Step5: Take the lightest and most valuable if there is enough space left\n",
    "for i in 1:length(smaller_and_valuable)\n",
    "    list_of_possible_corners = calculate_new_corners(J, knapsack)\n",
    "    add_to_knapsack(smaller_and_valuable[i], J, knapsack, list_of_possible_corners)\n",
    "end"
   ]
  },
  {
   "cell_type": "code",
   "execution_count": null,
   "metadata": {},
   "outputs": [],
   "source": []
  },
  {
   "cell_type": "code",
   "execution_count": null,
   "metadata": {},
   "outputs": [],
   "source": [
    "J"
   ]
  },
  {
   "cell_type": "code",
   "execution_count": null,
   "metadata": {},
   "outputs": [],
   "source": []
  }
 ],
 "metadata": {
  "kernelspec": {
   "display_name": "Julia 1.1.0",
   "language": "julia",
   "name": "julia-1.1"
  },
  "language_info": {
   "file_extension": ".jl",
   "mimetype": "application/julia",
   "name": "julia",
   "version": "1.1.0"
  }
 },
 "nbformat": 4,
 "nbformat_minor": 2
}
